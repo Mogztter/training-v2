{
  "cells": [
    {
      "cell_type": "markdown",
      "metadata": {
        "colab_type": "text",
        "id": "view-in-github",
        "pycharm": {}
      },
      "source": [
        "\u003ca href\u003d\"https://colab.research.google.com/github/mneedham/data-science-training/blob/master/00_Environment.ipynb\" target\u003d\"_parent\"\u003e\u003cimg src\u003d\"https://colab.research.google.com/assets/colab-badge.svg\" alt\u003d\"Open In Colab\"/\u003e\u003c/a\u003e"
      ]
    },
    {
      "cell_type": "markdown",
      "metadata": {
        "pycharm": {}
      },
      "source": "# Setting up your environment\n\nIn this notebook you will set up the python environment for the course.\n\n## Libraries\n\nFirst you will install some libraries that are required for the exercises.\n\nNote: When you execute your first command for the notebook you will be asked if you want to reset all runtimes before running.\nThis option should be unticked so you can use your credentials across notebooks.\n\n\u003cdiv align\u003d\"left\"\u003e\n    \u003cimg src\u003d\"images/google-colab.png\" alt\u003d\"Google Colabatory\"/\u003e\n\u003c/div\u003e\n\n\nRun this first command in the notebook by clicking the run cell icon to the left of the command: \n"
    },
    {
      "cell_type": "code",
      "execution_count": null,
      "metadata": {
        "pycharm": {}
      },
      "outputs": [],
      "source": [
        "!pip install py2neo\u003d\u003d4.1.3 pandas matplotlib sklearn"
      ]
    },
    {
      "cell_type": "markdown",
      "metadata": {
        "pycharm": {}
      },
      "source": "\nIf you see warnings or errors when you run this command, re-run the command. It should run with no errors.\n\nStart by importing py2neo library which we use to import the data into Neo4j. py2neo is a client library and toolkit for working with Neo4j from within Python applications. It is well suited for Data Science workflows and has great integration with other Python Data Science tools. Run this cell:"
    },
    {
      "cell_type": "code",
      "execution_count": null,
      "metadata": {
        "pycharm": {}
      },
      "outputs": [],
      "source": [
        "from py2neo import Graph"
      ]
    },
    {
      "cell_type": "markdown",
      "metadata": {
        "pycharm": {}
      },
      "source": "## Sandbox\n\nYou should already have a Neo4j Citations Sandbox running. Select the Details tab for the Citations Sandbox so that you can see the IP Address, Bolt Port, and Password for the Sandbox.\n\n\u003cdiv align\u003d\"left\"\u003e\n    \u003cimg src\u003d\"images/sandbox-citations.png\" alt\u003d\"Citations Sandbox\"/\u003e\n\u003c/div\u003e\n"
    },
    {
      "cell_type": "code",
      "execution_count": null,
      "metadata": {
        "pycharm": {}
      },
      "outputs": [],
      "source": [
        "# Change the line of code below to use the IP Address, Bolt Port,  and Password of your Sandbox.\n",
        "# graph \u003d Graph(\"\u003cBolt URL\u003e\", auth\u003d(\"neo4j\", \"\u003cPassword\u003e\")) \n",
        " \n",
        "graph \u003d Graph(\"bolt://52.3.242.176:33698\", auth\u003d(\"neo4j\", \"equivalent-listing-parts\"))"
      ]
    },
    {
      "cell_type": "markdown",
      "metadata": {
        "pycharm": {}
      },
      "source": "\nIf that works fine, and no exceptions are thrown, you have verified that you can connect to the Neo4j Sandbox from your notebook and you are ready to continue with the rest of the course!\n\n**Keep this notebook open as you will need to copy the credentials into the other notebooks!**"
    }
  ],
  "metadata": {
    "kernelspec": {
      "display_name": "Python 3",
      "language": "python",
      "name": "python3"
    },
    "language_info": {
      "codemirror_mode": {
        "name": "ipython",
        "version": 3
      },
      "file_extension": ".py",
      "mimetype": "text/x-python",
      "name": "python",
      "nbconvert_exporter": "python",
      "pygments_lexer": "ipython3",
      "version": "3.6.7"
    }
  },
  "nbformat": 4,
  "nbformat_minor": 2
}