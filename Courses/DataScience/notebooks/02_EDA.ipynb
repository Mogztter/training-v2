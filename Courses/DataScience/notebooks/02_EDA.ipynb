{
  "cells": [
    {
      "cell_type": "markdown",
      "metadata": {
        "pycharm": {}
      },
      "source": "# Exploratory Data Analysis\n\nIn this notebook you will explore the citation dataset. You should already have installed py2neo, pandas, and matplotlib when setting up our environment, so you will now import them (remember to unset Reset all runtimes before running):"
    },
    {
      "cell_type": "code",
      "execution_count": null,
      "metadata": {
        "pycharm": {}
      },
      "outputs": [],
      "source": [
        "from py2neo import Graph\n",
        "import pandas as pd\n",
        "\n",
        "import matplotlib \n",
        "import matplotlib.pyplot as plt\n",
        "\n",
        "plt.style.use(\u0027fivethirtyeight\u0027)\n",
        "pd.set_option(\u0027display.float_format\u0027, lambda x: \u0027%.3f\u0027 % x)"
      ]
    },
    {
      "cell_type": "markdown",
      "metadata": {
        "pycharm": {}
      },
      "source": "Next, create a connection to your Neo4j Sandbox, just as you did previously when you set up your environment. \n\n\u003cdiv align\u003d\"left\"\u003e\n    \u003cimg src\u003d\"images/sandbox-citations.png\" alt\u003d\"Citation Sandbox\"/\u003e\n\u003c/div\u003e\n\nUpdate the cell below to use the IP Address, Bolt Port, and Password, as you did previously."
    },
    {
      "cell_type": "code",
      "execution_count": null,
      "metadata": {
        "pycharm": {}
      },
      "outputs": [],
      "source": "# Change the line of code below to use the IP Address, Bolt Port, and Password of your Sandbox.\n# graph \u003d Graph(\"bolt://\u003cIP Address\u003e:\u003cBolt Port\u003e\", auth\u003d(\"neo4j\", \"\u003cPassword\u003e\")) \n \ngraph \u003d Graph(\"bolt://52.3.242.176:33698\", auth\u003d(\"neo4j\", \"equivalent-listing-parts\"))"
    },
    {
      "cell_type": "markdown",
      "metadata": {
        "pycharm": {}
      },
      "source": "## What\u0027s in our database?\n\nRun the following query to check how many nodes our database contains:"
    },
    {
      "cell_type": "code",
      "execution_count": null,
      "metadata": {
        "pycharm": {}
      },
      "outputs": [],
      "source": [
        "graph.run(\"CALL db.schema()\").data()"
      ]
    },
    {
      "cell_type": "markdown",
      "metadata": {
        "pycharm": {}
      },
      "source": "If we run that query (CALL db.schema()) in  Neo4j Browser, you see the following visualisation:\n\n\u003cimg src\u003d\"images/data-science-training.png\" alt\u003d\"Graph Data Model\"/\u003e\n"
    },
    {
      "cell_type": "markdown",
      "metadata": {
        "pycharm": {}
      },
      "source": "Let\u0027s drill down a bit. How many nodes do we have for each of these labels? Run this code:"
    },
    {
      "cell_type": "code",
      "execution_count": 22,
      "metadata": {
        "pycharm": {}
      },
      "outputs": [
        {
          "data": {
            "text/html": [
              "\u003cdiv\u003e\n",
              "\u003cstyle scoped\u003e\n",
              "    .dataframe tbody tr th:only-of-type {\n",
              "        vertical-align: middle;\n",
              "    }\n",
              "\n",
              "    .dataframe tbody tr th {\n",
              "        vertical-align: top;\n",
              "    }\n",
              "\n",
              "    .dataframe thead th {\n",
              "        text-align: right;\n",
              "    }\n",
              "\u003c/style\u003e\n",
              "\u003ctable border\u003d\"1\" class\u003d\"dataframe\"\u003e\n",
              "  \u003cthead\u003e\n",
              "    \u003ctr style\u003d\"text-align: right;\"\u003e\n",
              "      \u003cth\u003e\u003c/th\u003e\n",
              "      \u003cth\u003elabel\u003c/th\u003e\n",
              "      \u003cth\u003ecount\u003c/th\u003e\n",
              "    \u003c/tr\u003e\n",
              "  \u003c/thead\u003e\n",
              "  \u003ctbody\u003e\n",
              "    \u003ctr\u003e\n",
              "      \u003cth\u003e2\u003c/th\u003e\n",
              "      \u003ctd\u003eVenue\u003c/td\u003e\n",
              "      \u003ctd\u003e4\u003c/td\u003e\n",
              "    \u003c/tr\u003e\n",
              "    \u003ctr\u003e\n",
              "      \u003cth\u003e0\u003c/th\u003e\n",
              "      \u003ctd\u003eArticle\u003c/td\u003e\n",
              "      \u003ctd\u003e51956\u003c/td\u003e\n",
              "    \u003c/tr\u003e\n",
              "    \u003ctr\u003e\n",
              "      \u003cth\u003e1\u003c/th\u003e\n",
              "      \u003ctd\u003eAuthor\u003c/td\u003e\n",
              "      \u003ctd\u003e80299\u003c/td\u003e\n",
              "    \u003c/tr\u003e\n",
              "  \u003c/tbody\u003e\n",
              "\u003c/table\u003e\n",
              "\u003c/div\u003e"
            ],
            "text/plain": [
              "     label  count\n",
              "2    Venue      4\n",
              "0  Article  51956\n",
              "1   Author  80299"
            ]
          },
          "execution_count": 22,
          "metadata": {},
          "output_type": "execute_result"
        }
      ],
      "source": [
        "result \u003d {\"label\": [], \"count\": []}\n",
        "for label in graph.run(\"CALL db.labels()\").to_series():\n",
        "    query \u003d f\"MATCH (:`{label}`) RETURN count(*) as count\"\n",
        "    count \u003d graph.run(query).to_data_frame().iloc[0][\u0027count\u0027]\n",
        "    result[\"label\"].append(label)\n",
        "    result[\"count\"].append(count)\n",
        "nodes_df \u003d pd.DataFrame(data\u003dresult)\n",
        "nodes_df.sort_values(\"count\")"
      ]
    },
    {
      "cell_type": "markdown",
      "metadata": {
        "pycharm": {}
      },
      "source": "You can visualize the counts using matplotlib\u003e Run the following code:"
    },
    {
      "cell_type": "code",
      "execution_count": null,
      "metadata": {
        "pycharm": {}
      },
      "outputs": [],
      "source": [
        "nodes_df.plot(kind\u003d\u0027bar\u0027, x\u003d\u0027label\u0027, y\u003d\u0027count\u0027, legend\u003dNone, title\u003d\"Node Cardinalities\")\n",
        "plt.yscale(\"log\")\n",
        "plt.xticks(rotation\u003d45)\n",
        "plt.tight_layout()\n",
        "plt.show()"
      ]
    },
    {
      "cell_type": "markdown",
      "metadata": {
        "pycharm": {}
      },
      "source": "What types of relationships do we have in our graph? Run this code:"
    },
    {
      "cell_type": "code",
      "execution_count": null,
      "metadata": {
        "pycharm": {}
      },
      "outputs": [],
      "source": [
        "result \u003d {\"relType\": [], \"count\": []}\n",
        "for relationship_type in graph.run(\"CALL db.relationshipTypes()\").to_series():\n",
        "    query \u003d f\"MATCH ()-[:`{relationship_type}`]-\u003e() RETURN count(*) as count\"\n",
        "    count \u003d graph.run(query).to_data_frame().iloc[0][\u0027count\u0027]\n",
        "    result[\"relType\"].append(relationship_type)\n",
        "    result[\"count\"].append(count)\n",
        "rels_df \u003d pd.DataFrame(data\u003dresult)\n",
        "rels_df.sort_values(\"count\")"
      ]
    },
    {
      "cell_type": "markdown",
      "metadata": {
        "pycharm": {}
      },
      "source": "You can visualize the counts using matplotlib. Run  the following code:"
    },
    {
      "cell_type": "code",
      "execution_count": null,
      "metadata": {
        "pycharm": {}
      },
      "outputs": [],
      "source": [
        "rels_df.plot(kind\u003d\u0027bar\u0027, x\u003d\u0027relType\u0027, y\u003d\u0027count\u0027, legend\u003dNone, title\u003d\"Relationship Cardinalities\")\n",
        "plt.xticks(rotation\u003d45)\n",
        "plt.tight_layout()\n",
        "plt.show()"
      ]
    },
    {
      "cell_type": "markdown",
      "metadata": {
        "pycharm": {}
      },
      "source": "Now let\u0027s explore the citation data. The following query finds 25 authors, articles, venues, and also shows the number of articles that article has cited, as well as the number of articles that it\u0027s been cited by.\nRun this code:"
    },
    {
      "cell_type": "code",
      "execution_count": null,
      "metadata": {
        "pycharm": {}
      },
      "outputs": [],
      "source": [
        "exploratory_query \u003d \"\"\"\n",
        "MATCH (author:Author)\u003c-[:AUTHOR]-(article:Article)-[:VENUE]-\u003e(venue)\n",
        "RETURN article.title AS article, author.name AS author, venue.name AS venue, \n",
        "       size((article)-[:CITED]-\u003e()) AS citationsGiven, size((article)\u003c-[:CITED]-()) AS citationsReceived\n",
        "ORDER BY rand()\n",
        "LIMIT 25\n",
        "\"\"\"\n",
        "\n",
        "graph.run(exploratory_query).to_data_frame()"
      ]
    },
    {
      "cell_type": "markdown",
      "metadata": {
        "pycharm": {}
      },
      "source": "Let\u0027s look into the citation data more closely. Here is a query that returns the number of citations that each article has, and then creates a distribution of those counts using pandas `describe` function. Run this code:"
    },
    {
      "cell_type": "code",
      "execution_count": 20,
      "metadata": {
        "pycharm": {}
      },
      "outputs": [
        {
          "data": {
            "text/html": [
              "\u003cdiv\u003e\n",
              "\u003cstyle scoped\u003e\n",
              "    .dataframe tbody tr th:only-of-type {\n",
              "        vertical-align: middle;\n",
              "    }\n",
              "\n",
              "    .dataframe tbody tr th {\n",
              "        vertical-align: top;\n",
              "    }\n",
              "\n",
              "    .dataframe thead th {\n",
              "        text-align: right;\n",
              "    }\n",
              "\u003c/style\u003e\n",
              "\u003ctable border\u003d\"1\" class\u003d\"dataframe\"\u003e\n",
              "  \u003cthead\u003e\n",
              "    \u003ctr style\u003d\"text-align: right;\"\u003e\n",
              "      \u003cth\u003e\u003c/th\u003e\n",
              "      \u003cth\u003ecitations\u003c/th\u003e\n",
              "    \u003c/tr\u003e\n",
              "  \u003c/thead\u003e\n",
              "  \u003ctbody\u003e\n",
              "    \u003ctr\u003e\n",
              "      \u003cth\u003ecount\u003c/th\u003e\n",
              "      \u003ctd\u003e51956.000\u003c/td\u003e\n",
              "    \u003c/tr\u003e\n",
              "    \u003ctr\u003e\n",
              "      \u003cth\u003emean\u003c/th\u003e\n",
              "      \u003ctd\u003e0.553\u003c/td\u003e\n",
              "    \u003c/tr\u003e\n",
              "    \u003ctr\u003e\n",
              "      \u003cth\u003estd\u003c/th\u003e\n",
              "      \u003ctd\u003e2.418\u003c/td\u003e\n",
              "    \u003c/tr\u003e\n",
              "    \u003ctr\u003e\n",
              "      \u003cth\u003emin\u003c/th\u003e\n",
              "      \u003ctd\u003e0.000\u003c/td\u003e\n",
              "    \u003c/tr\u003e\n",
              "    \u003ctr\u003e\n",
              "      \u003cth\u003e25%\u003c/th\u003e\n",
              "      \u003ctd\u003e0.000\u003c/td\u003e\n",
              "    \u003c/tr\u003e\n",
              "    \u003ctr\u003e\n",
              "      \u003cth\u003e50%\u003c/th\u003e\n",
              "      \u003ctd\u003e0.000\u003c/td\u003e\n",
              "    \u003c/tr\u003e\n",
              "    \u003ctr\u003e\n",
              "      \u003cth\u003e75%\u003c/th\u003e\n",
              "      \u003ctd\u003e0.000\u003c/td\u003e\n",
              "    \u003c/tr\u003e\n",
              "    \u003ctr\u003e\n",
              "      \u003cth\u003e90%\u003c/th\u003e\n",
              "      \u003ctd\u003e1.000\u003c/td\u003e\n",
              "    \u003c/tr\u003e\n",
              "    \u003ctr\u003e\n",
              "      \u003cth\u003e99%\u003c/th\u003e\n",
              "      \u003ctd\u003e8.000\u003c/td\u003e\n",
              "    \u003c/tr\u003e\n",
              "    \u003ctr\u003e\n",
              "      \u003cth\u003emax\u003c/th\u003e\n",
              "      \u003ctd\u003e211.000\u003c/td\u003e\n",
              "    \u003c/tr\u003e\n",
              "  \u003c/tbody\u003e\n",
              "\u003c/table\u003e\n",
              "\u003c/div\u003e"
            ],
            "text/plain": [
              "       citations\n",
              "count  51956.000\n",
              "mean       0.553\n",
              "std        2.418\n",
              "min        0.000\n",
              "25%        0.000\n",
              "50%        0.000\n",
              "75%        0.000\n",
              "90%        1.000\n",
              "99%        8.000\n",
              "max      211.000"
            ]
          },
          "execution_count": 20,
          "metadata": {},
          "output_type": "execute_result"
        }
      ],
      "source": [
        "query \u003d \"\"\"\n",
        "MATCH (a:Article)\n",
        "RETURN size((a)\u003c-[:CITED]-()) AS citations\n",
        "\"\"\"\n",
        "\n",
        "citation_df \u003d graph.run(query).to_data_frame()\n",
        "citation_df.describe([.25, .5, .75, .9, .99])"
      ]
    },
    {
      "cell_type": "markdown",
      "metadata": {
        "pycharm": {}
      },
      "source": "Most articles are being cited very few times. 99% of articles have 8 citations or less. We do, however, have one article that\u0027s been cited more than 200 times. We\u0027ll use a log scale histogram to visualise the data. Run this code:"
    },
    {
      "cell_type": "code",
      "execution_count": 21,
      "metadata": {
        "pycharm": {}
      },
      "outputs": [
        {
          "data": {
            "image/png": "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\u003d\u003d\n",
            "text/plain": [
              "\u003cFigure size 432x288 with 1 Axes\u003e"
            ]
          },
          "metadata": {},
          "output_type": "display_data"
        }
      ],
      "source": [
        "fig1, ax1 \u003d plt.subplots()\n",
        "ax1.hist(pd.Series(citation_df[\u0027citations\u0027].dropna()), 1250, density\u003dTrue, facecolor\u003d\u0027g\u0027, alpha\u003d0.75)\n",
        "ax1.set_xscale(\"log\")\n",
        "plt.tight_layout()\n",
        "plt.show()"
      ]
    },
    {
      "cell_type": "markdown",
      "metadata": {
        "pycharm": {}
      },
      "source": "## Exercise instructions\n\n1. Create a similar query showing the articles that cite the most other papers? Note that you\u0027ll only need to do a slight tweak of the Cypher query to do this. \n2. What about a distribution of the number of articles published by authors?\n\nKeep the results of this exercise handy as they may be useful for the quiz at the end of this module."
    }
  ],
  "metadata": {
    "kernelspec": {
      "display_name": "Python 3",
      "language": "python",
      "name": "python3"
    },
    "language_info": {
      "codemirror_mode": {
        "name": "ipython",
        "version": 3
      },
      "file_extension": ".py",
      "mimetype": "text/x-python",
      "name": "python",
      "nbconvert_exporter": "python",
      "pygments_lexer": "ipython3",
      "version": "3.6.7"
    }
  },
  "nbformat": 4,
  "nbformat_minor": 2
}