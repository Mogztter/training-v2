{
  "cells": [
    {
      "cell_type": "markdown",
      "metadata": {
        "pycharm": {}
      },
      "source": "# Recommendations: Part 2\n\nIn the 2nd part of our recommendations exercise, you will use the PageRank algorithm to make article recommendations to an author. \nExecute the code to import the libraries:"
    },
    {
      "cell_type": "code",
      "execution_count": null,
      "outputs": [],
      "source": "from py2neo import Graph\nimport pandas as pd\n\nimport matplotlib \nimport matplotlib.pyplot as plt\n\nplt.style.use(\u0027fivethirtyeight\u0027)\npd.set_option(\u0027display.float_format\u0027, lambda x: \u0027%.3f\u0027 % x)\npd.set_option(\u0027display.max_colwidth\u0027, 100)",
      "metadata": {
        "pycharm": {
          "metadata": false,
          "name": "#%%\n"
        }
      }
    },
    {
      "cell_type": "markdown",
      "source": "Next, create a connection to your Neo4j Sandbox, just as you did previously when you set up your environment. \n\n\u003cdiv align\u003d\"left\"\u003e\n    \u003cimg src\u003d\"images/sandbox-citations.png\" alt\u003d\"Citation Sandbox\"/\u003e\n\u003c/div\u003e\n\nUpdate the cell below to use the IP Address, Bolt Port, and Password, as you did previously.",
      "metadata": {
        "pycharm": {
          "metadata": false
        }
      }
    },
    {
      "cell_type": "code",
      "execution_count": null,
      "outputs": [],
      "source": "# Change the line of code below to use the IP Address, Bolt Port, and Password of your Sandbox.\n# graph \u003d Graph(\"bolt://\u003cIP Address\u003e:\u003cBolt Port\u003e\", auth\u003d(\"neo4j\", \"\u003cPassword\u003e\")) \n \ngraph \u003d Graph(\"bolt://52.3.242.176:33698\", auth\u003d(\"neo4j\", \"equivalent-listing-parts\"))",
      "metadata": {
        "pycharm": {
          "metadata": false,
          "name": "#%%\n"
        }
      }
    },
    {
      "cell_type": "markdown",
      "source": "## PageRank\n\nPageRank is an algorithm that measures the transitive influence or connectivity of nodes. It can be computed by either iteratively distributing one node’s rank (originally based on degree) over its neighbors or by randomly traversing the graph and counting the frequency of hitting each node during these walks.\n\nRun this PageRank code over the whole graph to find out the most influential article in terms of citations:",
      "metadata": {
        "pycharm": {
          "metadata": false
        }
      }
    },
    {
      "cell_type": "code",
      "execution_count": null,
      "metadata": {
        "pycharm": {}
      },
      "outputs": [],
      "source": "query \u003d \"\"\"\nCALL algo.pageRank(\u0027Article\u0027, \u0027CITED\u0027)\n\"\"\"\ngraph.run(query).data()"
    },
    {
      "cell_type": "markdown",
      "metadata": {
        "pycharm": {}
      },
      "source": "This query stores a \u0027pagerank\u0027 property on each node. Execute this code to view the most influential articles:"
    },
    {
      "cell_type": "markdown",
      "metadata": {
        "pycharm": {}
      },
      "source": [
        "query \u003d \"\"\"\n",
        "MATCH (a:Article)\n",
        "RETURN a.title as article,\n",
        "       a.pagerank as score\n",
        "ORDER BY score DESC \n",
        "LIMIT 10\n",
        "\"\"\"\n",
        "graph.run(query).to_data_frame()"
      ]
    },
    {
      "cell_type": "markdown",
      "metadata": {
        "pycharm": {}
      },
      "source": "## Personalized PageRank\n\nPersonalized PageRank is a variant of PageRank that allows us to find influential nodes based on a set of source nodes.\n\nFor example, rather than finding the overall most influential articles, we could instead, find the most influential articles with respect to a given author.\nExecute this code to use a personalized PageRank algorithm:"
    },
    {
      "cell_type": "code",
      "execution_count": null,
      "metadata": {
        "pycharm": {}
      },
      "outputs": [],
      "source": [
        "query \u003d \"\"\"\n",
        "MATCH (a:Author {name: $author})\u003c-[:AUTHOR]-(article)-[:CITED]-\u003e(other)\n",
        "WITH collect(article) + collect(other) AS sourceNodes\n",
        "CALL algo.pageRank.stream(\u0027Article\u0027, \u0027CITED\u0027, {sourceNodes: sourceNodes})\n",
        "YIELD nodeId, score\n",
        "RETURN algo.getNodeById(nodeId).title AS article, score\n",
        "ORDER BY score DESC\n",
        "LIMIT 10\n",
        "\"\"\"\n",
        "\n",
        "author_name \u003d \"Peter G. Neumann\"\n",
        "graph.run(query, {\"author\": author_name}).to_data_frame()"
      ]
    },
    {
      "cell_type": "markdown",
      "metadata": {
        "pycharm": {}
      },
      "source": "## Topic Sensitive Search\n\nYou can also use Personalized PageRank to do \u0027Topic Specific PageRank\u0027. \n\nWhen an author is searching for articles to read, they want that search to take themselves as authors into account. Two authors using the same search term would expect to see different results depending on their area of research.\n\nCreate a full text search index on the \u0027title\u0027 and \u0027abstract\u0027 properties of all nodes that have the label \u0027Article\u0027 by executing this code:"
    },
    {
      "cell_type": "code",
      "execution_count": null,
      "metadata": {
        "pycharm": {}
      },
      "outputs": [],
      "source": [
        "query \u003d \"\"\"\n",
        "    CALL db.index.fulltext.createNodeIndex(\u0027articles\u0027, [\u0027Article\u0027], [\u0027title\u0027, \u0027abstract\u0027])\n",
        "\"\"\"\n",
        "graph.run(query).data()"
      ]
    },
    {
      "cell_type": "markdown",
      "metadata": {
        "pycharm": {}
      },
      "source": "Check that the full text index has been created by running the following query:"
    },
    {
      "cell_type": "code",
      "execution_count": null,
      "metadata": {
        "pycharm": {}
      },
      "outputs": [],
      "source": [
        "query \u003d \"\"\"\n",
        "CALL db.indexes()\n",
        "YIELD description, indexName, tokenNames, properties, state, type, progress\n",
        "WHERE type \u003d \"node_fulltext\"\n",
        "RETURN *\n",
        "\"\"\"\n",
        "graph.run(query).to_data_frame()"
      ]
    },
    {
      "cell_type": "markdown",
      "metadata": {
        "pycharm": {}
      },
      "source": "You can search the full text index like this:"
    },
    {
      "cell_type": "code",
      "execution_count": null,
      "metadata": {
        "pycharm": {}
      },
      "outputs": [],
      "source": [
        "query \u003d \"\"\"\n",
        "CALL db.index.fulltext.queryNodes(\"articles\", \"open source\")\n",
        "YIELD node, score\n",
        "RETURN node.title, score, [(author)\u003c-[:AUTHOR]-(node) | author.name] AS authors\n",
        "LIMIT 10\n",
        "\"\"\"\n",
        "graph.run(query).to_data_frame()"
      ]
    },
    {
      "cell_type": "markdown",
      "metadata": {
        "pycharm": {}
      },
      "source": "Here is a query to find the authors that have published the most articles on \u0027open source\u0027:"
    },
    {
      "cell_type": "code",
      "execution_count": null,
      "metadata": {
        "pycharm": {}
      },
      "outputs": [],
      "source": [
        "query \u003d \"\"\"\n",
        "CALL db.index.fulltext.queryNodes(\"articles\", \"open source\")\n",
        "YIELD node, score\n",
        "MATCH (node)-[:AUTHOR]-\u003e(author)\n",
        "RETURN author.name, sum(score) AS totalScore, collect(node.title) AS articles\n",
        "ORDER By totalScore DESC\n",
        "LIMIT 20\n",
        "\"\"\"\n",
        "\n",
        "graph.run(query).to_data_frame()"
      ]
    },
    {
      "cell_type": "markdown",
      "metadata": {
        "pycharm": {}
      },
      "source": "Next, use full text search and Personalized PageRank to find interesting articles for different authors:"
    },
    {
      "cell_type": "code",
      "execution_count": null,
      "metadata": {
        "pycharm": {}
      },
      "outputs": [],
      "source": [
        "query \u003d \"\"\"\n",
        "MATCH (a:Author {name: $author})\u003c-[:AUTHOR]-(article)-[:CITED]-\u003e(other)\n",
        "WITH a, collect(article) + collect(other) AS sourceNodes\n",
        "CALL algo.pageRank.stream(\n",
        "  \u0027CALL db.index.fulltext.queryNodes(\"articles\", $searchTerm)\n",
        "   YIELD node, score\n",
        "   RETURN id(node) as id\u0027,\n",
        "  \u0027MATCH (a1:Article)-[:CITED]-\u003e(a2:Article) \n",
        "   RETURN id(a1) as source,id(a2) as target\u0027, \n",
        "  {sourceNodes: sourceNodes,graph:\u0027cypher\u0027, params: {searchTerm: $searchTerm}})\n",
        "YIELD nodeId, score\n",
        "WITH algo.getNodeById(nodeId) AS n, score\n",
        "WHERE not(exists((a)\u003c-[:AUTHOR]-(n))) AND score \u003e 0\n",
        "RETURN n.title as article, score, [(n)-[:AUTHOR]-\u003e(author) | author.name][..5] AS authors\n",
        "order by score desc limit 10\n",
        "\"\"\"\n",
        "\n",
        "params \u003d {\"author\": \"Tao Xie\", \"searchTerm\": \"open source\"}\n",
        "graph.run(query, params).to_data_frame()"
      ]
    },
    {
      "cell_type": "markdown",
      "metadata": {
        "pycharm": {}
      },
      "source": "Execute the same query with a different author:"
    },
    {
      "cell_type": "code",
      "execution_count": null,
      "metadata": {
        "pycharm": {}
      },
      "outputs": [],
      "source": [
        "params \u003d {\"author\": \"Marco Aurélio Gerosa\", \"searchTerm\": \"open source\"}\n",
        "graph.run(query, params).to_data_frame()"
      ]
    }
  ],
  "metadata": {
    "kernelspec": {
      "display_name": "Python 3",
      "language": "python",
      "name": "python3"
    },
    "language_info": {
      "codemirror_mode": {
        "name": "ipython",
        "version": 3
      },
      "file_extension": ".py",
      "mimetype": "text/x-python",
      "name": "python",
      "nbconvert_exporter": "python",
      "pygments_lexer": "ipython3",
      "version": "3.6.7"
    }
  },
  "nbformat": 4,
  "nbformat_minor": 2
}