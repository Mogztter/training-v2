{
  "cells": [
    {
      "cell_type": "markdown",
      "metadata": {
        "colab_type": "text",
        "id": "view-in-github",
        "pycharm": {}
      },
      "source": [
        "\u003ca href\u003d\"https://colab.research.google.com/github/mneedham/data-science-training/blob/master/01_DataLoading.ipynb\" target\u003d\"_parent\"\u003e\u003cimg src\u003d\"https://colab.research.google.com/assets/colab-badge.svg\" alt\u003d\"Open In Colab\"/\u003e\u003c/a\u003e"
      ]
    },
    {
      "cell_type": "markdown",
      "metadata": {
        "pycharm": {}
      },
      "source": [
        "# Citation Dataset Loading\n",
        "\n",
        "In this notebook we\u0027re going to load the citation dataset into Neo4j.\n",
        "\n",
        "First let\u0027s import a couple of Python libraries that will help us with this process."
      ]
    },
    {
      "cell_type": "code",
      "execution_count": 1,
      "metadata": {
        "pycharm": {}
      },
      "outputs": [
        {
          "name": "stdout",
          "output_type": "stream",
          "text": [
            "Requirement already satisfied: py2neo in ./a/lib/python3.6/site-packages\n",
            "Requirement already satisfied: pandas in ./a/lib/python3.6/site-packages\n",
            "Requirement already satisfied: click\u003e\u003d7.0 in ./a/lib/python3.6/site-packages (from py2neo)\n",
            "Requirement already satisfied: colorama in ./a/lib/python3.6/site-packages (from py2neo)\n",
            "Requirement already satisfied: neobolt\u003c1.8,\u003e\u003d1.7.3 in ./a/lib/python3.6/site-packages (from py2neo)\n",
            "Requirement already satisfied: neotime\u003c1.8,\u003e\u003d1.7.4 in ./a/lib/python3.6/site-packages (from py2neo)\n",
            "Requirement already satisfied: prompt_toolkit\u003c2.1,\u003e\u003d2.0.7 in ./a/lib/python3.6/site-packages (from py2neo)\n",
            "Requirement already satisfied: pygments\u003c2.4,\u003e\u003d2.3.0 in ./a/lib/python3.6/site-packages (from py2neo)\n",
            "Requirement already satisfied: pytz in ./a/lib/python3.6/site-packages (from py2neo)\n",
            "Requirement already satisfied: urllib3[secure]\u003c1.25,\u003e\u003d1.23 in ./a/lib/python3.6/site-packages (from py2neo)\n",
            "Requirement already satisfied: numpy\u003e\u003d1.12.0 in ./a/lib/python3.6/site-packages (from pandas)\n",
            "Requirement already satisfied: python-dateutil\u003e\u003d2.5.0 in ./a/lib/python3.6/site-packages (from pandas)\n",
            "Requirement already satisfied: six in ./a/lib/python3.6/site-packages (from neotime\u003c1.8,\u003e\u003d1.7.4-\u003epy2neo)\n",
            "Requirement already satisfied: wcwidth in ./a/lib/python3.6/site-packages (from prompt_toolkit\u003c2.1,\u003e\u003d2.0.7-\u003epy2neo)\n",
            "Requirement already satisfied: idna\u003e\u003d2.0.0; extra \u003d\u003d \"secure\" in ./a/lib/python3.6/site-packages (from urllib3[secure]\u003c1.25,\u003e\u003d1.23-\u003epy2neo)\n",
            "Requirement already satisfied: pyOpenSSL\u003e\u003d0.14; extra \u003d\u003d \"secure\" in ./a/lib/python3.6/site-packages (from urllib3[secure]\u003c1.25,\u003e\u003d1.23-\u003epy2neo)\n",
            "Requirement already satisfied: ipaddress; extra \u003d\u003d \"secure\" in ./a/lib/python3.6/site-packages (from urllib3[secure]\u003c1.25,\u003e\u003d1.23-\u003epy2neo)\n",
            "Requirement already satisfied: cryptography\u003e\u003d1.3.4; extra \u003d\u003d \"secure\" in ./a/lib/python3.6/site-packages (from urllib3[secure]\u003c1.25,\u003e\u003d1.23-\u003epy2neo)\n",
            "Requirement already satisfied: certifi; extra \u003d\u003d \"secure\" in ./a/lib/python3.6/site-packages (from urllib3[secure]\u003c1.25,\u003e\u003d1.23-\u003epy2neo)\n",
            "Requirement already satisfied: cffi!\u003d1.11.3,\u003e\u003d1.8 in ./a/lib/python3.6/site-packages (from cryptography\u003e\u003d1.3.4; extra \u003d\u003d \"secure\"-\u003eurllib3[secure]\u003c1.25,\u003e\u003d1.23-\u003epy2neo)\n",
            "Requirement already satisfied: asn1crypto\u003e\u003d0.21.0 in ./a/lib/python3.6/site-packages (from cryptography\u003e\u003d1.3.4; extra \u003d\u003d \"secure\"-\u003eurllib3[secure]\u003c1.25,\u003e\u003d1.23-\u003epy2neo)\n",
            "Requirement already satisfied: pycparser in ./a/lib/python3.6/site-packages (from cffi!\u003d1.11.3,\u003e\u003d1.8-\u003ecryptography\u003e\u003d1.3.4; extra \u003d\u003d \"secure\"-\u003eurllib3[secure]\u003c1.25,\u003e\u003d1.23-\u003epy2neo)\n"
          ]
        }
      ],
      "source": [
        "!pip install py2neo pandas"
      ]
    },
    {
      "cell_type": "markdown",
      "metadata": {
        "pycharm": {}
      },
      "source": [
        "We\u0027ll start by importing py2neo library which we\u0027ll use to import the data into Neo4j. py2neo is a client library and toolkit for working with Neo4j from within Python applications. It is well suited for Data Science workflows and has great integration with other Python Data Science tools."
      ]
    },
    {
      "cell_type": "code",
      "execution_count": 10,
      "metadata": {
        "pycharm": {}
      },
      "outputs": [],
      "source": [
        "from py2neo import Graph"
      ]
    },
    {
      "cell_type": "markdown",
      "metadata": {
        "pycharm": {}
      },
      "source": ""
    },
    {
      "cell_type": "code",
      "execution_count": 11,
      "metadata": {
        "pycharm": {}
      },
      "outputs": [],
      "source": [
        "# Change the line of code below to use the IP Address, Bolt Port, and Password of your Sandbox.\n",
        "# graph \u003d Graph(\"bolt://\u003cIP Address\u003e:\u003cBolt Port\u003e\", auth\u003d(\"neo4j\", \"\u003cPassword\u003e\")) \n",
        "\n",
        "# graph \u003d Graph(\"bolt://18.234.168.45:33679\", auth\u003d(\"neo4j\", \"daybreak-cosal-rumbles\")) \n",
        "graph \u003d Graph(\"bolt://localhost\", auth\u003d(\"neo4j\", \"neo\")) "
      ]
    },
    {
      "cell_type": "markdown",
      "metadata": {
        "pycharm": {}
      },
      "source": [
        "## Create Constraints\n",
        "\n",
        "First let\u0027s create some constraints to make sure we don\u0027t import duplicate data:"
      ]
    },
    {
      "cell_type": "code",
      "execution_count": 12,
      "metadata": {
        "pycharm": {}
      },
      "outputs": [
        {
          "data": {
            "text/plain": [
              "constraints_added: 1\n",
              "constraints_removed: 0\n",
              "contains_updates: True\n",
              "indexes_added: 0\n",
              "indexes_removed: 0\n",
              "labels_added: 0\n",
              "labels_removed: 0\n",
              "nodes_created: 0\n",
              "nodes_deleted: 0\n",
              "properties_set: 0\n",
              "relationships_created: 0\n",
              "relationships_deleted: 0"
            ]
          },
          "metadata": {},
          "output_type": "display_data"
        },
        {
          "data": {
            "text/plain": [
              "constraints_added: 1\n",
              "constraints_removed: 0\n",
              "contains_updates: True\n",
              "indexes_added: 0\n",
              "indexes_removed: 0\n",
              "labels_added: 0\n",
              "labels_removed: 0\n",
              "nodes_created: 0\n",
              "nodes_deleted: 0\n",
              "properties_set: 0\n",
              "relationships_created: 0\n",
              "relationships_deleted: 0"
            ]
          },
          "metadata": {},
          "output_type": "display_data"
        },
        {
          "data": {
            "text/plain": [
              "constraints_added: 1\n",
              "constraints_removed: 0\n",
              "contains_updates: True\n",
              "indexes_added: 0\n",
              "indexes_removed: 0\n",
              "labels_added: 0\n",
              "labels_removed: 0\n",
              "nodes_created: 0\n",
              "nodes_deleted: 0\n",
              "properties_set: 0\n",
              "relationships_created: 0\n",
              "relationships_deleted: 0"
            ]
          },
          "metadata": {},
          "output_type": "display_data"
        }
      ],
      "source": [
        "display(graph.run(\"CREATE CONSTRAINT ON (a:Article) ASSERT a.index IS UNIQUE\").stats())\n",
        "display(graph.run(\"CREATE CONSTRAINT ON (a:Author) ASSERT a.name IS UNIQUE\").stats())\n",
        "display(graph.run(\"CREATE CONSTRAINT ON (v:Venue) ASSERT v.name IS UNIQUE\").stats())"
      ]
    },
    {
      "cell_type": "markdown",
      "metadata": {
        "pycharm": {}
      },
      "source": [
        "## Loading the data\n",
        "\n",
        "Now let\u0027s load the data into the database. We\u0027ll create nodes for Articles, Venues, and Authors.\n"
      ]
    },
    {
      "cell_type": "code",
      "execution_count": 13,
      "metadata": {
        "pycharm": {}
      },
      "outputs": [
        {
          "data": {
            "text/html": [
              "\u003cdiv\u003e\n",
              "\u003cstyle scoped\u003e\n",
              "    .dataframe tbody tr th:only-of-type {\n",
              "        vertical-align: middle;\n",
              "    }\n",
              "\n",
              "    .dataframe tbody tr th {\n",
              "        vertical-align: top;\n",
              "    }\n",
              "\n",
              "    .dataframe thead th {\n",
              "        text-align: right;\n",
              "    }\n",
              "\u003c/style\u003e\n",
              "\u003ctable border\u003d\"1\" class\u003d\"dataframe\"\u003e\n",
              "  \u003cthead\u003e\n",
              "    \u003ctr style\u003d\"text-align: right;\"\u003e\n",
              "      \u003cth\u003e\u003c/th\u003e\n",
              "      \u003cth\u003ebatch\u003c/th\u003e\n",
              "      \u003cth\u003ebatches\u003c/th\u003e\n",
              "      \u003cth\u003ecommittedOperations\u003c/th\u003e\n",
              "      \u003cth\u003eerrorMessages\u003c/th\u003e\n",
              "      \u003cth\u003efailedBatches\u003c/th\u003e\n",
              "      \u003cth\u003efailedOperations\u003c/th\u003e\n",
              "      \u003cth\u003eoperations\u003c/th\u003e\n",
              "      \u003cth\u003eretries\u003c/th\u003e\n",
              "      \u003cth\u003etimeTaken\u003c/th\u003e\n",
              "      \u003cth\u003etotal\u003c/th\u003e\n",
              "      \u003cth\u003ewasTerminated\u003c/th\u003e\n",
              "    \u003c/tr\u003e\n",
              "  \u003c/thead\u003e\n",
              "  \u003ctbody\u003e\n",
              "    \u003ctr\u003e\n",
              "      \u003cth\u003e0\u003c/th\u003e\n",
              "      \u003ctd\u003e{\u0027total\u0027: 52, \u0027committed\u0027: 52, \u0027failed\u0027: 0, \u0027e...\u003c/td\u003e\n",
              "      \u003ctd\u003e52\u003c/td\u003e\n",
              "      \u003ctd\u003e51956\u003c/td\u003e\n",
              "      \u003ctd\u003e{}\u003c/td\u003e\n",
              "      \u003ctd\u003e0\u003c/td\u003e\n",
              "      \u003ctd\u003e0\u003c/td\u003e\n",
              "      \u003ctd\u003e{\u0027total\u0027: 51956, \u0027committed\u0027: 51956, \u0027failed\u0027:...\u003c/td\u003e\n",
              "      \u003ctd\u003e0\u003c/td\u003e\n",
              "      \u003ctd\u003e24\u003c/td\u003e\n",
              "      \u003ctd\u003e51956\u003c/td\u003e\n",
              "      \u003ctd\u003eFalse\u003c/td\u003e\n",
              "    \u003c/tr\u003e\n",
              "  \u003c/tbody\u003e\n",
              "\u003c/table\u003e\n",
              "\u003c/div\u003e"
            ],
            "text/plain": [
              "                                               batch  batches  \\\n",
              "0  {\u0027total\u0027: 52, \u0027committed\u0027: 52, \u0027failed\u0027: 0, \u0027e...       52   \n",
              "\n",
              "   committedOperations errorMessages  failedBatches  failedOperations  \\\n",
              "0                51956            {}              0                 0   \n",
              "\n",
              "                                          operations  retries  timeTaken  \\\n",
              "0  {\u0027total\u0027: 51956, \u0027committed\u0027: 51956, \u0027failed\u0027:...        0         24   \n",
              "\n",
              "   total  wasTerminated  \n",
              "0  51956          False  "
            ]
          },
          "execution_count": 13,
          "metadata": {},
          "output_type": "execute_result"
        }
      ],
      "source": [
        "query \u003d \"\"\"\n",
        "CALL apoc.periodic.iterate(\n",
        "  \u0027UNWIND [\"dblp-ref-0.json\", \"dblp-ref-1.json\", \"dblp-ref-2.json\", \"dblp-ref-3.json\"] AS file\n",
        "   CALL apoc.load.json(\"https://github.com/mneedham/link-prediction/raw/master/data/\" + file)\n",
        "   YIELD value WITH value\n",
        "   return value\u0027,\n",
        "  \u0027MERGE (a:Article {index:value.id})\n",
        "   SET a +\u003d apoc.map.clean(value,[\"id\",\"authors\",\"references\", \"venue\"],[0])\n",
        "   WITH a, value.authors as authors, value.references AS citations, value.venue AS venue\n",
        "   MERGE (v:Venue {name: venue})\n",
        "   MERGE (a)-[:VENUE]-\u003e(v)\n",
        "   FOREACH(author in authors | \n",
        "     MERGE (b:Author{name:author})\n",
        "     MERGE (a)-[:AUTHOR]-\u003e(b))\n",
        "   FOREACH(citation in citations | \n",
        "     MERGE (cited:Article {index:citation})\n",
        "     MERGE (a)-[:CITED]-\u003e(cited))\u0027, \n",
        "   {batchSize: 1000, iterateList: true});\n",
        "\"\"\"\n",
        "graph.run(query).to_data_frame()"
      ]
    },
    {
      "cell_type": "code",
      "execution_count": 17,
      "metadata": {
        "pycharm": {}
      },
      "outputs": [
        {
          "data": {
            "text/plain": [
              "constraints_added: 0\n",
              "constraints_removed: 0\n",
              "contains_updates: False\n",
              "indexes_added: 0\n",
              "indexes_removed: 0\n",
              "labels_added: 0\n",
              "labels_removed: 0\n",
              "nodes_created: 0\n",
              "nodes_deleted: 0\n",
              "properties_set: 0\n",
              "relationships_created: 0\n",
              "relationships_deleted: 0"
            ]
          },
          "execution_count": 17,
          "metadata": {},
          "output_type": "execute_result"
        }
      ],
      "source": [
        "query \u003d \"\"\"\n",
        "MATCH (a:Article) WHERE not(exists(a.title))\n",
        "DETACH DELETE a\n",
        "\"\"\"\n",
        "graph.run(query).stats()"
      ]
    },
    {
      "cell_type": "markdown",
      "metadata": {
        "pycharm": {}
      },
      "source": [
        "In the next notebook we\u0027ll explore the data that we\u0027ve imported. "
      ]
    }
  ],
  "metadata": {
    "kernelspec": {
      "display_name": "Python 3",
      "language": "python",
      "name": "python3"
    },
    "language_info": {
      "codemirror_mode": {
        "name": "ipython",
        "version": 3
      },
      "file_extension": ".py",
      "mimetype": "text/x-python",
      "name": "python",
      "nbconvert_exporter": "python",
      "pygments_lexer": "ipython3",
      "version": "3.6.7"
    }
  },
  "nbformat": 4,
  "nbformat_minor": 2
}