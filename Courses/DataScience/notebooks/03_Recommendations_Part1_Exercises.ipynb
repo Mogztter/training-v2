{
  "cells": [
    {
      "cell_type": "markdown",
      "metadata": {
        "pycharm": {}
      },
      "source": "# Recommendations: Part 1 Solutions\n\nIn this notebook you will learn how to make recommendations using Neo4j. \n\nExecute the code to import the libraries (remember to unset Reset all runtimes before running):"
    },
    {
      "cell_type": "code",
      "execution_count": null,
      "metadata": {
        "pycharm": {}
      },
      "outputs": [],
      "source": [
        "from py2neo import Graph\n",
        "import pandas as pd\n",
        "\n",
        "import matplotlib \n",
        "import matplotlib.pyplot as plt\n",
        "\n",
        "plt.style.use(\u0027fivethirtyeight\u0027)\n",
        "pd.set_option(\u0027display.float_format\u0027, lambda x: \u0027%.3f\u0027 % x)\n",
        "pd.set_option(\u0027display.max_colwidth\u0027, 100)"
      ]
    },
    {
      "cell_type": "markdown",
      "metadata": {
        "pycharm": {}
      },
      "source": "Next, create a connection to your Neo4j Sandbox, just as you did previously when you set up your environment. \n\n\u003cdiv align\u003d\"left\"\u003e\n    \u003cimg src\u003d\"images/sandbox-citations.png\" alt\u003d\"Citation Sandbox\"/\u003e\n\u003c/div\u003e\n\nUpdate the cell below to use the IP Address, Bolt Port, and Password, as you did previously."
    },
    {
      "cell_type": "code",
      "execution_count": null,
      "metadata": {
        "pycharm": {}
      },
      "outputs": [],
      "source": "# Change the line of code below to use the IP Address, Bolt Port, and Password of your Sandbox.\n# graph \u003d Graph(\"bolt://\u003cIP Address\u003e:\u003cBolt Port\u003e\", auth\u003d(\"neo4j\", \"\u003cPassword\u003e\")) \n \ngraph \u003d Graph(\"bolt://52.3.242.176:33698\", auth\u003d(\"neo4j\", \"equivalent-listing-parts\"))"
    },
    {
      "cell_type": "markdown",
      "metadata": {
        "pycharm": {}
      },
      "source": "## Exercise\n\n1. Can you find the top 20 suggested collaborators for \u0027Brian Fitzgerald\u0027?"
    },
    {
      "cell_type": "code",
      "execution_count": null,
      "metadata": {
        "pycharm": {}
      },
      "outputs": [],
      "source": [
        "query \u003d \"\"\"\n",
        "MATCH (author:Author {name: $authorName})\u003c-[:AUTHOR]-(article)-[:AUTHOR]-\u003e(coauthor),\n",
        "      (coauthor)\u003c-[:AUTHOR]-()-[:AUTHOR]-\u003e(coc)\n",
        "WHERE not((coc)\u003c-[:AUTHOR]-()-[:AUTHOR]-\u003e(author)) AND coc \u003c\u003e author      \n",
        "RETURN coc.name AS coauthor, count(*) AS collaborations\n",
        "ORDER BY collaborations DESC\n",
        "LIMIT 20\n",
        "\"\"\"\n",
        "\n",
        "params \u003d {\"authorName\": \"Brian Fitzgerald\", \"searchTerm\": \"open source\"}\n",
        "graph.run(query, params).to_data_frame()"
      ]
    },
    {
      "cell_type": "markdown",
      "metadata": {
        "pycharm": {}
      },
      "source": "2. How many of these potential collaborators have collaborated with Brian\u0027s collaborators more than 3 times?"
    },
    {
      "cell_type": "code",
      "execution_count": null,
      "metadata": {
        "pycharm": {}
      },
      "outputs": [],
      "source": [
        "query \u003d \"\"\"\n",
        "MATCH (author:Author {name: $authorName})\u003c-[:AUTHOR]-(article)-[:AUTHOR]-\u003e(coauthor),\n",
        "      (coauthor)\u003c-[:AUTHOR]-()-[:AUTHOR]-\u003e(coc)\n",
        "WHERE not((coc)\u003c-[:AUTHOR]-()-[:AUTHOR]-\u003e(author)) AND coc \u003c\u003e author      \n",
        "WITH coc, count(*) AS collaborations\n",
        "WHERE collaborations \u003e 3\n",
        "RETURN count(*)\n",
        "\"\"\"\n",
        "graph.run(query, params).to_data_frame()"
      ]
    }
  ],
  "metadata": {
    "kernelspec": {
      "display_name": "Python 3",
      "language": "python",
      "name": "python3"
    },
    "language_info": {
      "codemirror_mode": {
        "name": "ipython",
        "version": 3
      },
      "file_extension": ".py",
      "mimetype": "text/x-python",
      "name": "python",
      "nbconvert_exporter": "python",
      "pygments_lexer": "ipython3",
      "version": "3.6.7"
    }
  },
  "nbformat": 4,
  "nbformat_minor": 2
}